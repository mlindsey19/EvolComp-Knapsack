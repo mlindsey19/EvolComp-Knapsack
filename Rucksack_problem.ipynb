{
  "nbformat": 4,
  "nbformat_minor": 0,
  "metadata": {
    "colab": {
      "name": "Rucksack_problem",
      "version": "0.3.2",
      "provenance": [],
      "collapsed_sections": [],
      "include_colab_link": true
    },
    "kernelspec": {
      "name": "python3",
      "display_name": "Python 3"
    },
    "accelerator": "GPU"
  },
  "cells": [
    {
      "cell_type": "markdown",
      "metadata": {
        "id": "view-in-github",
        "colab_type": "text"
      },
      "source": [
        "<a href=\"https://colab.research.google.com/github/mlindsey19/EvolComp-Rucksack/blob/master/Rucksack_problem.ipynb\" target=\"_parent\"><img src=\"https://colab.research.google.com/assets/colab-badge.svg\" alt=\"Open In Colab\"/></a>"
      ]
    },
    {
      "cell_type": "markdown",
      "metadata": {
        "id": "_0kFYyPhqp0E",
        "colab_type": "text"
      },
      "source": [
        "#Knapsack Problem"
      ]
    },
    {
      "cell_type": "code",
      "metadata": {
        "id": "zvXe_LZ2jw-s",
        "colab_type": "code",
        "colab": {}
      },
      "source": [
        "import numpy as np\n",
        "\n",
        "float_formatter = lambda x: \"%.2f\" % x\n",
        "float_formatter1 = lambda x: \"%.1f\" % x\n",
        "float_formatter2 = lambda x:  str(x)[0] if ( 0 <= x ) else str(x)[0:2] #for viewing aligned columns. ONLY SHOWS FIRST DIGIT\n",
        "np.set_printoptions( formatter = { 'float_kind' : float_formatter } )\n",
        "\n",
        "L = 20\n",
        "N = 10\n",
        "\n",
        "bits = np.random.randint(low=0,high=2,size=20)\n",
        "def new_bits():\n",
        "  global bits\n",
        "  bits = np.random.randint(low=0,high=2,size=20)\n",
        "  return bits # need this return\n",
        "  \n",
        "vals = np.random.normal(loc=5.0, scale=4.0, size=20)\n",
        "wts = np.random.normal(loc=5.0, scale=5.0, size=20)\n",
        "ratio = vals/wts\n",
        "cons = np.stack( [ vals, wts, ratio ] )\n",
        "\n",
        "avg_c = np.sum(wts)/2\n",
        "restrict_c = np.amax(wts) * 2\n",
        "D=0\n",
        "CAP = avg_c\n",
        "\n",
        "def new_constraits():\n",
        "  global avg_c,restict_c, vals, wts, cons\n",
        "  vals = np.random.normal(loc=20.0, scale=6.0, size=20)\n",
        "  wts = np.random.normal(loc=1.0, scale=3, size=20)\n",
        "  #vals += 10\n",
        "  wts += 10\n",
        "  ratio = vals/wts\n",
        "  cons = np.stack( [ vals, wts, ratio ] )\n",
        "  avg_c = np.sum(wts)/2\n",
        "  restrict_c = np.amax(wts) * 2\n",
        "\n",
        "pop = [ np.stack( [ new_bits(), vals, wts, ratio ]) for _ in range(N) ]\n",
        "pop = np.stack(pop)\n",
        "\n",
        "def new_pop():\n",
        "  global pop\n",
        "  pop = [ np.stack( [ new_bits(), vals, wts, ratio ]) for _ in range(N) ]\n",
        "  pop = np.stack(pop)\n",
        "  \n",
        "\n",
        "\n"
      ],
      "execution_count": 0,
      "outputs": []
    },
    {
      "cell_type": "code",
      "metadata": {
        "id": "BUMCTnPmEzH3",
        "colab_type": "code",
        "colab": {}
      },
      "source": [
        "def str_wt( x ):\n",
        "  return ( x[0] * x[2] ).sum()\n",
        "def str_val( x ):\n",
        "  return ( x[0] * x[1] ).sum()\n"
      ],
      "execution_count": 0,
      "outputs": []
    },
    {
      "cell_type": "markdown",
      "metadata": {
        "id": "ZeowTKyn30Nr",
        "colab_type": "text"
      },
      "source": [
        "#Penalty\n",
        "* **CAP** -> capacity \n",
        "* **D** -> degree of penalty ( zero=-1;  logarithmic = 0;  linear = 1; quadratic = 2 )\n",
        "\n",
        "\n",
        "\n"
      ]
    },
    {
      "cell_type": "code",
      "metadata": {
        "id": "gxSlsKkr0qhz",
        "colab_type": "code",
        "colab": {}
      },
      "source": [
        "pen = ratio.max()\n",
        "def set_pen():\n",
        "  global pen\n",
        "  pen = ratio.max()\n",
        "\n",
        "\n",
        "def penalty(sw):\n",
        "  if( sw > CAP ):\n",
        "    global pen\n",
        "    p = ( sw - CAP ) * pen\n",
        "    p = np.log2( 1 + p) if ( D == 0 ) else p #assumes only positive values of p\n",
        "    p = p*p if (D == 2) else p\n",
        "    return 0 if ( D == -1 ) else p\n",
        "  else:\n",
        "    return 0\n",
        "def new_problem():\n",
        "  new_constraits()\n",
        "  new_pop()\n",
        "  set_pen()"
      ],
      "execution_count": 0,
      "outputs": []
    },
    {
      "cell_type": "markdown",
      "metadata": {
        "id": "tABa8RO98r1y",
        "colab_type": "text"
      },
      "source": [
        "#Repair\n"
      ]
    },
    {
      "cell_type": "code",
      "metadata": {
        "id": "fUB-dnny8qA2",
        "colab_type": "code",
        "colab": {}
      },
      "source": [
        "def repair():\n",
        "  global pop\n",
        "  for i in range(10):\n",
        "    if ( str_wt(pop[i]) > CAP ):\n",
        "      while( True ):\n",
        "        while ( True ):\n",
        "          k = np.random.randint(0, high = 20)\n",
        "          if ( pop[i,0, k ] == 1 ):\n",
        "            pop[ i ,0, k ] = 0\n",
        "            break\n",
        "        if ( str_wt( pop[i] ) <= CAP or ( not pop[i,0].sum() ) ):\n",
        "          break"
      ],
      "execution_count": 0,
      "outputs": []
    },
    {
      "cell_type": "markdown",
      "metadata": {
        "id": "eyZfCdTTqgzC",
        "colab_type": "text"
      },
      "source": [
        "#Selection\n",
        "\n"
      ]
    },
    {
      "cell_type": "code",
      "metadata": {
        "id": "wV0lnUMov-nX",
        "colab_type": "code",
        "colab": {}
      },
      "source": [
        "new_problem()"
      ],
      "execution_count": 0,
      "outputs": []
    },
    {
      "cell_type": "code",
      "metadata": {
        "id": "XCAK257mv8ep",
        "colab_type": "code",
        "colab": {}
      },
      "source": [
        "def fit_vals():\n",
        "  global pop\n",
        "  y = np.stack( [ str_val(pop[i]) for i in range(N)])\n",
        "  w = [str_wt(pop[ i ]) for i in range(N)]\n",
        "  f = [ penalty(i ) for i in w ]\n",
        "  av = y - f\n",
        "  return np.stack(av)\n",
        "def fit_wts():\n",
        "  global pop\n",
        "  y =  [ str_wt(pop[i]) for i in range(N)]\n",
        "  return np.stack(y)\n",
        "\n",
        "def sort_idx():\n",
        "  return fit_vals().argsort()"
      ],
      "execution_count": 0,
      "outputs": []
    },
    {
      "cell_type": "code",
      "metadata": {
        "id": "eDQlS2_pugoF",
        "colab_type": "code",
        "colab": {}
      },
      "source": [
        "linRank = np.empty(N)\n",
        "def set_linRank(min):\n",
        "  global linRank\n",
        "  max = 2 - min\n",
        "  Plr = lambda r:( min + ( r - 1 ) / ( N - 1 ) * ( max - min ) ) / N\n",
        "  PlrMap = np.array( [ Plr(x) for x in range( 1, 11 ) ] ) \n",
        "  for i in range(N):\n",
        "    if (i == 0):\n",
        "      linRank[ i ] = PlrMap[ i ]\n",
        "    else:\n",
        "      linRank[ i ] = PlrMap[ i ] + linRank[ i - 1 ]\n",
        "set_linRank(0.0)"
      ],
      "execution_count": 0,
      "outputs": []
    },
    {
      "cell_type": "code",
      "metadata": {
        "id": "Z8GPcHPqvayn",
        "colab_type": "code",
        "colab": {}
      },
      "source": [
        "def selectionLR():\n",
        "  global pop\n",
        "  newPop = np.empty( (N, 4, L ) )\n",
        "  si = sort_idx()\n",
        "  for i in range( N ):\n",
        "    s = np.random.uniform( 0, 1 )\n",
        "    for idx, c in enumerate(linRank):\n",
        "      if( s <= c ):\n",
        "        newPop[ i ] = pop[ si[ idx ] ]\n",
        "        break\n",
        "  pop = newPop"
      ],
      "execution_count": 0,
      "outputs": []
    },
    {
      "cell_type": "code",
      "metadata": {
        "id": "CVCy34Yc0WPe",
        "colab_type": "code",
        "colab": {}
      },
      "source": [
        "Psel = 0.7\n",
        "def selectionBT():\n",
        "  global pop\n",
        "  newPop = np.empty( ( N, 4, L ) )\n",
        "  for i in range(N):\n",
        "    s1 = np.random.randint(0,high=10)    \n",
        "    s2 = np.random.randint(0,high=10)\n",
        "    b = np.take( pop[:,0,:], s1, axis=0 )\n",
        "    a = np.take( pop[:,0,:], s2, axis=0 )\n",
        "    fit = fit_vals()\n",
        "    p = np.random.uniform( 0, 1 )\n",
        "    if ( fit[s1] > fit[s2] and p < Psel ):\n",
        "      newPop[i] = pop[s1]\n",
        "    else:\n",
        "      newPop[i] = pop[s2]\n",
        "  pop = newPop"
      ],
      "execution_count": 0,
      "outputs": []
    },
    {
      "cell_type": "markdown",
      "metadata": {
        "id": "jTs-mH3LC0Mj",
        "colab_type": "text"
      },
      "source": [
        "#Crossover"
      ]
    },
    {
      "cell_type": "code",
      "metadata": {
        "id": "TXyTg3LMdDdQ",
        "colab_type": "code",
        "colab": {}
      },
      "source": [
        "Pcross = 0.6\n",
        "\n",
        "def crossover_2pt():\n",
        "  global pop\n",
        "  newPop = np.empty( ( N, 4, L ) )\n",
        "  np.random.shuffle(pop)\n",
        "  for i in range( N // 2 ):\n",
        "    if ( np.random.uniform( 0, 1 ) < Pcross ):\n",
        "      j = 2 * i\n",
        "      pt1 = np.random.randint(0,high=20) \n",
        "      pt2 = np.random.randint(pt1,high=20)\n",
        "      pop[ j, 0, pt1:pt2 ], pop[ j + 1, 0, pt1:pt2 ] = pop[ j + 1, 0, pt1:pt2 ].copy(), pop[ j, 0, pt1:pt2 ].copy()\n",
        "      \n",
        "def crossover_1pt():\n",
        "  global pop\n",
        "  newPop = np.empty( ( N, 4, L ) )\n",
        "  np.random.shuffle(pop)\n",
        "  for i in range( N // 2 ):\n",
        "    if ( np.random.uniform( 0, 1 ) < Pcross ):\n",
        "      j = 2 * i\n",
        "      pt1 = np.random.randint(0,high=20) \n",
        "      pop[ j, 0, pt1: ], pop[ j + 1, 0, :pt1 ] = pop[ j + 1, 0, pt1: ].copy(), pop[ j, 0, :pt1 ].copy()\n",
        "\n",
        "def crossover_and():\n",
        "  global pop\n",
        "  np.random.shuffle(pop)\n",
        "  newPop = np.empty( ( N, 4, L ) )\n",
        "  for i in range( N ):\n",
        "    if ( np.random.uniform( 0, 1 ) < Pcross ):\n",
        "      r = np.random.randint(0,high=10)\n",
        "      b = np.take( pop[:,0,:], i, axis=0 )\n",
        "      a = np.take( pop[:,0,:], r, axis=0 )\n",
        "      newPop[i,0] = ( a.astype(bool) & b.astype(bool) ).astype(int)\n",
        "    else:\n",
        "      newPop[i,0] = pop[i,0]\n"
      ],
      "execution_count": 0,
      "outputs": []
    },
    {
      "cell_type": "markdown",
      "metadata": {
        "id": "KlY-knQNaKOP",
        "colab_type": "text"
      },
      "source": [
        "#Mutation"
      ]
    },
    {
      "cell_type": "code",
      "metadata": {
        "id": "sMPpQLwlaJ_X",
        "colab_type": "code",
        "colab": {}
      },
      "source": [
        "Pmut = 0.01\n",
        "def mutation():\n",
        "  mutMatrix = np.random.random_sample((10,20))\n",
        "  mm = (mutMatrix < Pmut).astype(int)\n",
        "  pop[:,0,:] = (pop[:,0,:] + mm) % 2"
      ],
      "execution_count": 0,
      "outputs": []
    },
    {
      "cell_type": "markdown",
      "metadata": {
        "id": "d-j6HrlIIygC",
        "colab_type": "text"
      },
      "source": [
        ""
      ]
    },
    {
      "cell_type": "markdown",
      "metadata": {
        "id": "_uZQNFWrpPcX",
        "colab_type": "text"
      },
      "source": [
        "#Evolution"
      ]
    },
    {
      "cell_type": "code",
      "metadata": {
        "id": "tiOwxstHUOJU",
        "colab_type": "code",
        "outputId": "bc26d245-248f-4193-a5c7-9bc18b456803",
        "colab": {
          "base_uri": "https://localhost:8080/",
          "height": 323
        }
      },
      "source": [
        "new_problem()\n",
        "CAP = avg_c\n",
        "D=-1\n",
        "np.set_printoptions( formatter = { 'float_kind' : float_formatter } )\n",
        "\n",
        "print(fit_vals())\n",
        "D=0\n",
        "\n",
        "print(fit_vals())\n",
        "D=1\n",
        "\n",
        "print(fit_vals())\n",
        "\n",
        "print(np.array([CAP]))\n",
        "\n",
        "print(fit_wts())\n",
        "D=2\n",
        "\n",
        "for _ in range(100):\n",
        "  selectionLR()\n",
        "  crossover_2pt()\n",
        "  mutation()\n",
        "# D=1\n",
        "# for _ in range(100):\n",
        "#   selectionBT()\n",
        "#   crossover_2pt()\n",
        "#   mutation()\n",
        "# D=2\n",
        "# for _ in range(30):\n",
        "#   selectionBT()\n",
        "#   crossover_and()\n",
        "#   mutation()\n",
        "# D=2\n",
        "# for _ in range(30):\n",
        "#   selectionBT()\n",
        "#   crossover_and()\n",
        "#   mutation()\n",
        "#   repair()\n",
        "\n",
        "D=2\n",
        "print(\"val\",fit_vals())\n",
        "print(np.array([CAP]))\n",
        "print(\"wts\",fit_wts())\n",
        "\n",
        "np.set_printoptions( formatter = { 'float_kind' : float_formatter2 } )\n",
        "\n",
        "print( pop[:,0] )"
      ],
      "execution_count": 129,
      "outputs": [
        {
          "output_type": "stream",
          "text": [
            "[196.06 189.21 184.42 185.86 172.10 159.83 112.95 186.07 252.29 182.04]\n",
            "[187.78 181.70 177.62 177.04 172.10 156.27 112.95 177.64 241.44 182.04]\n",
            "[-114.23 7.93 73.50 -267.39 172.10 149.07 112.95 -158.77 -1590.24 182.04]\n",
            "[112.49]\n",
            "[122.31 118.22 116.00 126.83 98.94 112.83 77.71 123.40 170.80 107.08]\n",
            "val [207.51 207.51 188.37 190.18 183.01 -54450.30 207.51 207.51 207.51 207.51]\n",
            "[112.49]\n",
            "wts [108.42 108.42 93.58 96.62 98.83 119.89 108.42 108.42 108.42 108.42]\n",
            "[[1 0 0 0 0 1 1 1 1 0 0 1 0 0 1 0 1 1 0 1]\n",
            " [1 0 0 0 0 1 1 1 1 0 0 1 0 0 1 0 1 1 0 1]\n",
            " [1 0 0 0 0 1 1 1 1 0 0 1 0 0 1 0 1 0 0 1]\n",
            " [1 0 0 0 0 1 1 1 0 0 0 1 0 0 1 0 1 1 0 1]\n",
            " [1 0 0 0 0 1 1 1 1 0 0 1 0 0 0 0 1 1 0 1]\n",
            " [1 0 0 0 1 1 1 1 1 0 0 1 0 0 1 0 1 1 0 1]\n",
            " [1 0 0 0 0 1 1 1 1 0 0 1 0 0 1 0 1 1 0 1]\n",
            " [1 0 0 0 0 1 1 1 1 0 0 1 0 0 1 0 1 1 0 1]\n",
            " [1 0 0 0 0 1 1 1 1 0 0 1 0 0 1 0 1 1 0 1]\n",
            " [1 0 0 0 0 1 1 1 1 0 0 1 0 0 1 0 1 1 0 1]]\n"
          ],
          "name": "stdout"
        }
      ]
    },
    {
      "cell_type": "code",
      "metadata": {
        "id": "z2QkmEBtpPx_",
        "colab_type": "code",
        "outputId": "3b27eb56-0995-4bd5-f43f-56d48a69aad4",
        "colab": {
          "base_uri": "https://localhost:8080/",
          "height": 238
        }
      },
      "source": [
        "new_problem()\n",
        "CAP = avg_c/8\n",
        "D=-1\n",
        "np.set_printoptions( formatter = { 'float_kind' : float_formatter } )\n",
        "\n",
        "\n",
        "\n",
        "for _ in range(30):\n",
        "  selectionBT()\n",
        "  crossover_1pt()\n",
        "  mutation()\n",
        "D=1\n",
        "for _ in range(30):\n",
        "  selectionBT()\n",
        "  crossover_2pt()\n",
        "  mutation()\n",
        "D=2\n",
        "for _ in range(20):\n",
        "  selectionBT()\n",
        "  crossover_and()\n",
        "  mutation()\n",
        "D=2\n",
        "repair()\n",
        "for _ in range(10):\n",
        "  selectionLR()\n",
        "  crossover_2pt()\n",
        "  mutation()\n",
        " # repair()\n",
        "\n",
        "D=2\n",
        "print(\"val\",fit_vals())\n",
        "print(np.array([CAP]))\n",
        "print(\"wts\",fit_wts())\n",
        "\n",
        "np.set_printoptions( formatter = { 'float_kind' : float_formatter2 } )\n",
        "\n",
        "print(pop[:,0])\n"
      ],
      "execution_count": 130,
      "outputs": [
        {
          "output_type": "stream",
          "text": [
            "val [-3681.77 25.56 25.56 25.56 25.56 25.56 -15048.06 -15048.06 25.56 25.56]\n",
            "[12.42]\n",
            "wts [14.35 7.06 7.06 7.06 7.06 7.06 16.31 16.31 7.06 7.06]\n",
            "[[0 0 0 0 0 0 0 0 0 0 0 0 1 0 0 0 0 0 0 1]\n",
            " [0 0 0 0 0 0 0 0 0 0 0 0 0 0 0 0 0 0 0 1]\n",
            " [0 0 0 0 0 0 0 0 0 0 0 0 0 0 0 0 0 0 0 1]\n",
            " [0 0 0 0 0 0 0 0 0 0 0 0 0 0 0 0 0 0 0 1]\n",
            " [0 0 0 0 0 0 0 0 0 0 0 0 0 0 0 0 0 0 0 1]\n",
            " [0 0 0 0 0 0 0 0 0 0 0 0 0 0 0 0 0 0 0 1]\n",
            " [0 0 0 0 1 0 0 0 0 0 0 0 0 0 0 0 0 0 0 1]\n",
            " [0 0 0 0 1 0 0 0 0 0 0 0 0 0 0 0 0 0 0 1]\n",
            " [0 0 0 0 0 0 0 0 0 0 0 0 0 0 0 0 0 0 0 1]\n",
            " [0 0 0 0 0 0 0 0 0 0 0 0 0 0 0 0 0 0 0 1]]\n"
          ],
          "name": "stdout"
        }
      ]
    },
    {
      "cell_type": "markdown",
      "metadata": {
        "id": "uQ5CWuR83hj-",
        "colab_type": "text"
      },
      "source": [
        "#Results\n",
        "\n",
        "change capacity, penalty, add repair"
      ]
    },
    {
      "cell_type": "code",
      "metadata": {
        "id": "QTUxI6HMlH5f",
        "colab_type": "code",
        "colab": {}
      },
      "source": [
        "crossList = [ crossover_2pt, crossover_1pt, crossover_and ]\n",
        "selectList = [ selectionBT , selectionLR ]\n",
        "import heapq\n",
        "best = [[0],0]\n",
        "bestList = np.empty((3,2), dtype=list)\n",
        "avgvect = np.zeros(10)\n",
        "avg = np.zeros((3,2))\n",
        "stdv = np.zeros((3,2))\n",
        "\n",
        "\n",
        "new_problem()\n",
        "#CAP = restrict_c\n",
        "CAP = avg_c\n",
        "D=1 # penalty   zero=-1; logarithmic = 0; linear = 1; quadratic = 2 \n",
        "\n",
        "for c, cross in enumerate(crossList):\n",
        "  for s, sel in enumerate(selectList):\n",
        "    for i in range(10):\n",
        "      new_pop()\n",
        "      best = [[0],0]\n",
        "      D=0\n",
        "      for _ in range(50):\n",
        "        sel()\n",
        "        cross()\n",
        "        mutation()\n",
        "      D=1\n",
        "      for _ in range(50):\n",
        "        sel()\n",
        "        cross()\n",
        "        mutation()\n",
        "      D=2\n",
        "      for _ in range(50):\n",
        "        sel()\n",
        "        cross()\n",
        "        mutation()\n",
        "      #repair()  # uncomment to add repair\n",
        "      D=0 #this just gives a better representation of the averages\n",
        "      fitval = fit_vals()\n",
        "      avgvect[i] = np.mean(fitval)\n",
        "      tmpbest =heapq.nlargest(1,range(10),vals.take)\n",
        "      if( fitval[tmpbest] > best[1]):\n",
        "        best[0] = pop[tmpbest,0]\n",
        "        best[1] = fitval[tmpbest,]\n",
        "    bestList[c,s] = best\n",
        "    avg[c,s] = np.mean(avgvect)\n",
        "    stdv[c,s] = np.std(avgvect)\n",
        "\n",
        "\n",
        "np.set_printoptions( formatter = { 'float_kind' : float_formatter1 } )\n"
      ],
      "execution_count": 0,
      "outputs": []
    },
    {
      "cell_type": "markdown",
      "metadata": {
        "id": "GFKBlETZp8ai",
        "colab_type": "text"
      },
      "source": [
        "# 2pt cross and binary tournament"
      ]
    },
    {
      "cell_type": "code",
      "metadata": {
        "id": "yRmoGCICTXfn",
        "colab_type": "code",
        "colab": {
          "base_uri": "https://localhost:8080/",
          "height": 221
        },
        "outputId": "563dc9ae-7f5c-49d0-e9c7-5ce477bc1f51"
      },
      "source": [
        "cc =0\n",
        "ss =0\n",
        "\n",
        "np.set_printoptions( formatter = { 'float_kind' : float_formatter } )\n",
        "print('Average:',np.array([avg[cc,ss]]))\n",
        "print('StDev:',np.array([stdv[cc,ss]]))\n",
        "print('Best:',bestList[cc,ss][1])\n",
        "np.set_printoptions( formatter = { 'float_kind' : float_formatter2 } )\n",
        "print('Objects:\\n',bestList[cc,ss][0][0])\n",
        "np.set_printoptions( formatter = { 'float_kind' : float_formatter1 } )\n",
        "\n",
        "print('Values:\\n',vals)\n",
        "print('Weights\\n',wts)\n",
        "np.set_printoptions( formatter = { 'float_kind' : float_formatter } )\n",
        "print('Capacity:',np.array([CAP]))"
      ],
      "execution_count": 141,
      "outputs": [
        {
          "output_type": "stream",
          "text": [
            "Average: [231.30]\n",
            "StDev: [14.99]\n",
            "Best: [251.43]\n",
            "Objects:\n",
            " [1 0 1 0 1 0 1 1 1 0 0 0 0 1 1 1 0 1 0 1]\n",
            "Values:\n",
            " [22.6 17.0 20.4 20.6 25.9 5.8 16.4 22.0 25.4 18.7 25.5 10.9 24.2 18.2 31.0\n",
            " 20.5 13.2 23.0 15.0 26.1]\n",
            "Weights\n",
            " [10.6 13.8 10.1 15.9 10.3 8.9 8.0 9.5 10.0 12.5 16.1 16.7 11.0 9.5 11.7\n",
            " 17.3 8.8 9.3 12.8 7.2]\n",
            "Capacity: [115.01]\n"
          ],
          "name": "stdout"
        }
      ]
    },
    {
      "cell_type": "markdown",
      "metadata": {
        "id": "D0kDO_-w1DqU",
        "colab_type": "text"
      },
      "source": [
        "# 2pt cross and Linear Ranking"
      ]
    },
    {
      "cell_type": "code",
      "metadata": {
        "id": "9w4LGH4j1D40",
        "colab_type": "code",
        "colab": {
          "base_uri": "https://localhost:8080/",
          "height": 221
        },
        "outputId": "ad988478-8057-4a20-8463-2d044f64fed2"
      },
      "source": [
        "cc = 0\n",
        "ss =1\n",
        "\n",
        "np.set_printoptions( formatter = { 'float_kind' : float_formatter } )\n",
        "print('Average:',np.array([avg[cc,ss]]))\n",
        "print('StDev:',np.array([stdv[cc,ss]]))\n",
        "print('Best:',bestList[cc,ss][1])\n",
        "np.set_printoptions( formatter = { 'float_kind' : float_formatter2 } )\n",
        "print('Objects:\\n',bestList[cc,ss][0])\n",
        "np.set_printoptions( formatter = { 'float_kind' : float_formatter1 } )\n",
        "\n",
        "print('Values:\\n',vals)\n",
        "print('Weights\\n',wts)\n",
        "np.set_printoptions( formatter = { 'float_kind' : float_formatter } )\n",
        "print('Capacity:',np.array([CAP]))"
      ],
      "execution_count": 142,
      "outputs": [
        {
          "output_type": "stream",
          "text": [
            "Average: [220.02]\n",
            "StDev: [12.32]\n",
            "Best: [228.55]\n",
            "Objects:\n",
            " [[0 0 1 0 1 0 0 0 0 1 1 0 1 0 1 1 1 1 0 1]]\n",
            "Values:\n",
            " [22.6 17.0 20.4 20.6 25.9 5.8 16.4 22.0 25.4 18.7 25.5 10.9 24.2 18.2 31.0\n",
            " 20.5 13.2 23.0 15.0 26.1]\n",
            "Weights\n",
            " [10.6 13.8 10.1 15.9 10.3 8.9 8.0 9.5 10.0 12.5 16.1 16.7 11.0 9.5 11.7\n",
            " 17.3 8.8 9.3 12.8 7.2]\n",
            "Capacity: [115.01]\n"
          ],
          "name": "stdout"
        }
      ]
    },
    {
      "cell_type": "markdown",
      "metadata": {
        "id": "0GI8F7a92F9U",
        "colab_type": "text"
      },
      "source": [
        "# 1 pt crossover and binary tournament\n",
        "\n",
        "\n",
        "\n"
      ]
    },
    {
      "cell_type": "code",
      "metadata": {
        "id": "p1GQAlw82GKx",
        "colab_type": "code",
        "colab": {
          "base_uri": "https://localhost:8080/",
          "height": 221
        },
        "outputId": "87a46fad-ba7a-4696-9a42-3d18d77176c9"
      },
      "source": [
        "cc = 1\n",
        "ss =0\n",
        "\n",
        "np.set_printoptions( formatter = { 'float_kind' : float_formatter } )\n",
        "print('Average:',np.array([avg[cc,ss]]))\n",
        "print('StDev:',np.array([stdv[cc,ss]]))\n",
        "print('Best:',bestList[cc,ss][1])\n",
        "np.set_printoptions( formatter = { 'float_kind' : float_formatter2 } )\n",
        "print('Objects:\\n',bestList[cc,ss][0][0])\n",
        "np.set_printoptions( formatter = { 'float_kind' : float_formatter1 } )\n",
        "\n",
        "print('Values:\\n',vals)\n",
        "print('Weights\\n',wts)\n",
        "np.set_printoptions( formatter = { 'float_kind' : float_formatter } )\n",
        "print('Capacity:',np.array([CAP]))"
      ],
      "execution_count": 143,
      "outputs": [
        {
          "output_type": "stream",
          "text": [
            "Average: [220.28]\n",
            "StDev: [14.48]\n",
            "Best: [215.59]\n",
            "Objects:\n",
            " [0 0 1 0 1 1 1 1 0 1 0 0 1 0 1 0 1 1 1 0]\n",
            "Values:\n",
            " [22.6 17.0 20.4 20.6 25.9 5.8 16.4 22.0 25.4 18.7 25.5 10.9 24.2 18.2 31.0\n",
            " 20.5 13.2 23.0 15.0 26.1]\n",
            "Weights\n",
            " [10.6 13.8 10.1 15.9 10.3 8.9 8.0 9.5 10.0 12.5 16.1 16.7 11.0 9.5 11.7\n",
            " 17.3 8.8 9.3 12.8 7.2]\n",
            "Capacity: [115.01]\n"
          ],
          "name": "stdout"
        }
      ]
    },
    {
      "cell_type": "markdown",
      "metadata": {
        "id": "KPGwx0PI2SKU",
        "colab_type": "text"
      },
      "source": [
        "# 1 pt crossover and linear rank"
      ]
    },
    {
      "cell_type": "code",
      "metadata": {
        "id": "Y6jU07ZX2SUS",
        "colab_type": "code",
        "colab": {
          "base_uri": "https://localhost:8080/",
          "height": 221
        },
        "outputId": "a824daec-c38d-4f76-cf51-a36fadffd6b0"
      },
      "source": [
        "cc = 1\n",
        "ss =1\n",
        "\n",
        "np.set_printoptions( formatter = { 'float_kind' : float_formatter } )\n",
        "print('Average:',np.array([avg[cc,ss]]))\n",
        "print('StDev:',np.array([stdv[cc,ss]]))\n",
        "print('Best:',bestList[cc,ss][1])\n",
        "np.set_printoptions( formatter = { 'float_kind' : float_formatter2 } )\n",
        "print('Objects:\\n',bestList[cc,ss][0][0])\n",
        "np.set_printoptions( formatter = { 'float_kind' : float_formatter1 } )\n",
        "\n",
        "print('Values:\\n',vals)\n",
        "print('Weights\\n',wts)\n",
        "np.set_printoptions( formatter = { 'float_kind' : float_formatter } )\n",
        "print('Capacity:',np.array([CAP]))"
      ],
      "execution_count": 144,
      "outputs": [
        {
          "output_type": "stream",
          "text": [
            "Average: [220.67]\n",
            "StDev: [16.14]\n",
            "Best: [225.16]\n",
            "Objects:\n",
            " [1 0 1 0 1 0 1 0 1 0 1 0 1 0 1 1 1 0 0 0]\n",
            "Values:\n",
            " [22.6 17.0 20.4 20.6 25.9 5.8 16.4 22.0 25.4 18.7 25.5 10.9 24.2 18.2 31.0\n",
            " 20.5 13.2 23.0 15.0 26.1]\n",
            "Weights\n",
            " [10.6 13.8 10.1 15.9 10.3 8.9 8.0 9.5 10.0 12.5 16.1 16.7 11.0 9.5 11.7\n",
            " 17.3 8.8 9.3 12.8 7.2]\n",
            "Capacity: [115.01]\n"
          ],
          "name": "stdout"
        }
      ]
    },
    {
      "cell_type": "markdown",
      "metadata": {
        "id": "jlaCqK_z2iaa",
        "colab_type": "text"
      },
      "source": [
        "# & corssover and binary tournament"
      ]
    },
    {
      "cell_type": "code",
      "metadata": {
        "id": "m9ATJezt2ilX",
        "colab_type": "code",
        "colab": {
          "base_uri": "https://localhost:8080/",
          "height": 221
        },
        "outputId": "b723adc6-51e4-4608-d592-bf9bed03fcab"
      },
      "source": [
        "cc = 2\n",
        "ss =0\n",
        "\n",
        "np.set_printoptions( formatter = { 'float_kind' : float_formatter } )\n",
        "print('Average:',np.array([avg[cc,ss]]))\n",
        "print('StDev:',np.array([stdv[cc,ss]]))\n",
        "print('Best:',bestList[cc,ss][1])\n",
        "np.set_printoptions( formatter = { 'float_kind' : float_formatter2 } )\n",
        "print('Objects:\\n',bestList[cc,ss][0][0])\n",
        "np.set_printoptions( formatter = { 'float_kind' : float_formatter1 } )\n",
        "\n",
        "print('Values:\\n',vals)\n",
        "print('Weights\\n',wts)\n",
        "np.set_printoptions( formatter = { 'float_kind' : float_formatter } )\n",
        "print('Capacity:',np.array([CAP]))"
      ],
      "execution_count": 145,
      "outputs": [
        {
          "output_type": "stream",
          "text": [
            "Average: [215.50]\n",
            "StDev: [18.84]\n",
            "Best: [167.60]\n",
            "Objects:\n",
            " [0 0 0 1 1 0 1 0 0 0 0 1 1 1 1 1 0 0 0 0]\n",
            "Values:\n",
            " [22.6 17.0 20.4 20.6 25.9 5.8 16.4 22.0 25.4 18.7 25.5 10.9 24.2 18.2 31.0\n",
            " 20.5 13.2 23.0 15.0 26.1]\n",
            "Weights\n",
            " [10.6 13.8 10.1 15.9 10.3 8.9 8.0 9.5 10.0 12.5 16.1 16.7 11.0 9.5 11.7\n",
            " 17.3 8.8 9.3 12.8 7.2]\n",
            "Capacity: [115.01]\n"
          ],
          "name": "stdout"
        }
      ]
    },
    {
      "cell_type": "markdown",
      "metadata": {
        "id": "X87MkB332cBY",
        "colab_type": "text"
      },
      "source": [
        "#& crossover and linear rank"
      ]
    },
    {
      "cell_type": "code",
      "metadata": {
        "id": "1U4MFosg2cJh",
        "colab_type": "code",
        "colab": {
          "base_uri": "https://localhost:8080/",
          "height": 221
        },
        "outputId": "cc45157a-8939-4056-8f5a-a8a4c07309fb"
      },
      "source": [
        "cc = 2\n",
        "ss =1\n",
        "\n",
        "np.set_printoptions( formatter = { 'float_kind' : float_formatter } )\n",
        "print('Average:',np.array([avg[cc,ss]]))\n",
        "print('StDev:',np.array([stdv[cc,ss]]))\n",
        "print('Best:',bestList[cc,ss][1])\n",
        "np.set_printoptions( formatter = { 'float_kind' : float_formatter2 } )\n",
        "print('Objects:\\n',bestList[cc,ss][0][0])\n",
        "np.set_printoptions( formatter = { 'float_kind' : float_formatter1 } )\n",
        "\n",
        "print('Values:\\n',vals)\n",
        "print('Weights\\n',wts)\n",
        "np.set_printoptions( formatter = { 'float_kind' : float_formatter } )\n",
        "print('Capacity:',np.array([CAP]))"
      ],
      "execution_count": 146,
      "outputs": [
        {
          "output_type": "stream",
          "text": [
            "Average: [224.44]\n",
            "StDev: [16.72]\n",
            "Best: [225.60]\n",
            "Objects:\n",
            " [1 0 0 0 1 1 1 1 1 1 0 0 1 1 0 1 0 0 0 1]\n",
            "Values:\n",
            " [22.6 17.0 20.4 20.6 25.9 5.8 16.4 22.0 25.4 18.7 25.5 10.9 24.2 18.2 31.0\n",
            " 20.5 13.2 23.0 15.0 26.1]\n",
            "Weights\n",
            " [10.6 13.8 10.1 15.9 10.3 8.9 8.0 9.5 10.0 12.5 16.1 16.7 11.0 9.5 11.7\n",
            " 17.3 8.8 9.3 12.8 7.2]\n",
            "Capacity: [115.01]\n"
          ],
          "name": "stdout"
        }
      ]
    },
    {
      "cell_type": "markdown",
      "metadata": {
        "id": "zbKVnKSw592x",
        "colab_type": "text"
      },
      "source": [
        "#penalty, capcity, repair\n"
      ]
    },
    {
      "cell_type": "code",
      "metadata": {
        "id": "KO_-agaJ55ag",
        "colab_type": "code",
        "colab": {
          "base_uri": "https://localhost:8080/",
          "height": 221
        },
        "outputId": "a064ca29-eb41-48cd-a1a2-07754f109a62"
      },
      "source": [
        "best = [[0],0]\n",
        "bestList = np.empty((1), dtype=list)\n",
        "avgvect = np.zeros(10)\n",
        "avg = np.zeros(1)\n",
        "stdv = np.zeros(1)\n",
        "\n",
        "\n",
        "new_problem()\n",
        "CAP = restrict_c\n",
        "#CAP = avg_c\n",
        "D=2 # penalty   zero=-1; logarithmic = 0; linear = 1; quadratic = 2 \n",
        "\n",
        "for i in range(10):\n",
        "  new_pop()\n",
        "  best = [[],0]\n",
        "  for _ in range(500):\n",
        "    selectionLR()\n",
        "    crossover_2pt()\n",
        "    mutation()\n",
        "  repair()  # uncomment to add repair\n",
        "  fitval = fit_vals()\n",
        "  avgvect[i] = np.mean(fitval)\n",
        "  tmpbest =heapq.nlargest(1,range(10),vals.take)\n",
        "  if( fitval[tmpbest] > best[1]):\n",
        "    best[0] = pop[tmpbest,0]\n",
        "    best[1] = fitval[tmpbest,]\n",
        "bestList = best\n",
        "avg = np.mean(avgvect)\n",
        "stdv = np.std(avgvect)\n",
        "\n",
        "\n",
        "np.set_printoptions( formatter = { 'float_kind' : float_formatter } )\n",
        "print('Average:',np.array([avg]))\n",
        "print('StDev:',np.array([stdv]))\n",
        "print('Best:',bestList[1])\n",
        "np.set_printoptions( formatter = { 'float_kind' : float_formatter2 } )\n",
        "print('Objects:\\n',bestList[0][0])\n",
        "np.set_printoptions( formatter = { 'float_kind' : float_formatter1 } )\n",
        "\n",
        "print('Values:\\n',vals)\n",
        "print('Weights\\n',wts)\n",
        "np.set_printoptions( formatter = { 'float_kind' : float_formatter } )\n",
        "print('Capacity:',np.array([CAP]))"
      ],
      "execution_count": 147,
      "outputs": [
        {
          "output_type": "stream",
          "text": [
            "Average: [59.60]\n",
            "StDev: [3.68]\n",
            "Best: [65.29]\n",
            "Objects:\n",
            " [0 0 1 0 0 0 1 0 0 0 0 0 0 0 1 0 0 0 0 0]\n",
            "Values:\n",
            " [20.9 13.4 20.9 16.8 19.1 23.1 21.4 13.6 14.5 16.5 24.1 18.0 25.9 19.4\n",
            " 23.0 14.7 19.7 15.6 14.9 16.2]\n",
            "Weights\n",
            " [11.2 12.8 7.7 9.8 10.4 11.9 13.5 10.7 7.7 10.1 17.3 8.4 14.3 9.8 5.1 6.9\n",
            " 10.1 7.8 11.5 10.2]\n",
            "Capacity: [26.55]\n"
          ],
          "name": "stdout"
        }
      ]
    }
  ]
}