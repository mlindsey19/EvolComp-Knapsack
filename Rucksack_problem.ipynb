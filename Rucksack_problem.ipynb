{
  "nbformat": 4,
  "nbformat_minor": 0,
  "metadata": {
    "colab": {
      "name": "Rucksack_problem",
      "version": "0.3.2",
      "provenance": [],
      "collapsed_sections": [],
      "include_colab_link": true
    },
    "kernelspec": {
      "name": "python3",
      "display_name": "Python 3"
    }
  },
  "cells": [
    {
      "cell_type": "markdown",
      "metadata": {
        "id": "view-in-github",
        "colab_type": "text"
      },
      "source": [
        "<a href=\"https://colab.research.google.com/github/mlindsey19/EvolComp-Rucksack/blob/master/Rucksack_problem.ipynb\" target=\"_parent\"><img src=\"https://colab.research.google.com/assets/colab-badge.svg\" alt=\"Open In Colab\"/></a>"
      ]
    },
    {
      "cell_type": "markdown",
      "metadata": {
        "id": "_0kFYyPhqp0E",
        "colab_type": "text"
      },
      "source": [
        "#Knapsack Problem"
      ]
    },
    {
      "cell_type": "code",
      "metadata": {
        "id": "zvXe_LZ2jw-s",
        "colab_type": "code",
        "colab": {}
      },
      "source": [
        "import numpy as np\n",
        "\n",
        "float_formatter = lambda x: \"%.2f\" % x\n",
        "float_formatter1 = lambda x: \"%.2f\" % x\n",
        "float_formatter2 = lambda x:  str(x)[0] if ( 0 <= x ) else str(x)[0:2] #for veiwing aligned columns. ONLY SHOWS FIRST DIGIT\n",
        "np.set_printoptions( formatter = { 'float_kind' : float_formatter } )\n",
        "\n",
        "L = 20\n",
        "N = 10\n",
        "\n",
        "bits = np.random.randint(low=0,high=2,size=20)\n",
        "def new_bits():\n",
        "  global bits\n",
        "  bits = np.random.randint(low=0,high=2,size=20)\n",
        "  return bits # need this return\n",
        "  \n",
        "vals = np.random.normal(loc=10.0, scale=2.0, size=20)\n",
        "wts = np.random.normal(loc=8.0, scale=3.0, size=20)\n",
        "ratio = vals/wts\n",
        "cons = np.stack( [ vals, wts, ratio ] )\n",
        "\n",
        "avg_c = wts.sum()/2\n",
        "restrict_c = wts.max() * 2\n",
        "D=0\n",
        "CAP = avg_c\n",
        "\n",
        "def new_constraits():\n",
        "  global avg_c,restict_c, vals, wts, cons\n",
        "  vals = np.random.normal(loc=10.0, scale=2.0, size=20)\n",
        "  wts = np.random.normal(loc=8.0, scale=3.0, size=20)\n",
        "  ratio = vals/wts\n",
        "  cons = np.stack( [ vals, wts, ratio ] )\n",
        "  avg_c = wts.sum()/2\n",
        "  restrict_c = wts.max() * 2\n",
        "\n",
        "pop = [ np.stack( [ new_bits(), vals, wts, ratio ]) for _ in range(N) ]\n",
        "pop = np.stack(pop)\n",
        "\n",
        "def new_pop():\n",
        "  global pop\n",
        "  pop = [ np.stack( [ new_bits(), vals, wts, ratio ]) for _ in range(N) ]\n",
        "  pop = np.stack(pop)\n",
        "  \n",
        "\n",
        "\n"
      ],
      "execution_count": 0,
      "outputs": []
    },
    {
      "cell_type": "code",
      "metadata": {
        "id": "BUMCTnPmEzH3",
        "colab_type": "code",
        "colab": {}
      },
      "source": [
        "def str_wt( x ):\n",
        "  return ( x[0] * x[2] ).sum()\n",
        "def str_val( x ):\n",
        "  return ( x[0] * x[1] ).sum()\n"
      ],
      "execution_count": 0,
      "outputs": []
    },
    {
      "cell_type": "markdown",
      "metadata": {
        "id": "ZeowTKyn30Nr",
        "colab_type": "text"
      },
      "source": [
        "#Penalty\n",
        "* **CAP** -> capacity \n",
        "* **D** -> degree of penalty ( zero=-1;  logarithmic = 0;  linear = 1; quadratic = 2 )\n",
        "\n",
        "\n",
        "\n"
      ]
    },
    {
      "cell_type": "code",
      "metadata": {
        "id": "gxSlsKkr0qhz",
        "colab_type": "code",
        "colab": {}
      },
      "source": [
        "pen = ratio.max()\n",
        "def set_pen():\n",
        "  global pen\n",
        "  pen = ratio.max()\n",
        "\n",
        "\n",
        "def penalty(sw):\n",
        "  if( sw > CAP ):\n",
        "    global pen\n",
        "    p = ( sw - CAP ) * pen\n",
        "    p = np.log2( 1 + p) if ( D == 0 ) else p #assumes only positive values of p\n",
        "    p = p*p if (D == 2) else p\n",
        "    return 0 if ( D == -1 ) else p\n",
        "  else:\n",
        "    return 0\n",
        "def new_problem():\n",
        "  new_constraits()\n",
        "  new_pop()\n",
        "  set_pen()"
      ],
      "execution_count": 0,
      "outputs": []
    },
    {
      "cell_type": "markdown",
      "metadata": {
        "id": "tABa8RO98r1y",
        "colab_type": "text"
      },
      "source": [
        "#Repair\n"
      ]
    },
    {
      "cell_type": "code",
      "metadata": {
        "id": "fUB-dnny8qA2",
        "colab_type": "code",
        "colab": {}
      },
      "source": [
        "def repair():\n",
        "  global pop\n",
        "  for i in range(10):\n",
        "    if ( str_wt(pop[i]) > CAP ):\n",
        "      while( True ):\n",
        "        while ( True ):\n",
        "          k = np.random.randint(0, high = 20)\n",
        "          if ( pop[i,0, k ] == 1 ):\n",
        "            pop[ i ,0, k ] = 0\n",
        "            break\n",
        "        if ( str_wt( pop[i] ) <= CAP or ( not pop[i,0].sum() ) ):\n",
        "          break"
      ],
      "execution_count": 0,
      "outputs": []
    },
    {
      "cell_type": "markdown",
      "metadata": {
        "id": "eyZfCdTTqgzC",
        "colab_type": "text"
      },
      "source": [
        "#Selection\n",
        "\n"
      ]
    },
    {
      "cell_type": "code",
      "metadata": {
        "id": "wV0lnUMov-nX",
        "colab_type": "code",
        "colab": {}
      },
      "source": [
        "new_problem()"
      ],
      "execution_count": 0,
      "outputs": []
    },
    {
      "cell_type": "code",
      "metadata": {
        "id": "XCAK257mv8ep",
        "colab_type": "code",
        "colab": {}
      },
      "source": [
        "def fit_vals():\n",
        "  global pop\n",
        "  y = np.stack( [ str_val(pop[i]) for i in range(N)])\n",
        "  w = [str_wt(pop[ i ]) for i in range(N)]\n",
        "  f = [ penalty(i ) for i in w ]\n",
        "  av = y - f\n",
        "  return np.stack(av)\n",
        "def fit_wts():\n",
        "  global pop\n",
        "  y =  [ str_wt(pop[i]) for i in range(N)]\n",
        "  return np.stack(y)\n",
        "\n",
        "def sort_idx():\n",
        "  return fit_vals().argsort()"
      ],
      "execution_count": 0,
      "outputs": []
    },
    {
      "cell_type": "code",
      "metadata": {
        "id": "eDQlS2_pugoF",
        "colab_type": "code",
        "colab": {}
      },
      "source": [
        "linRank = np.empty(N)\n",
        "def set_linRank(min):\n",
        "  global linRank\n",
        "  max = 2 - min\n",
        "  Plr = lambda r:( min + ( r - 1 ) / ( N - 1 ) * ( max - min ) ) / N\n",
        "  PlrMap = np.array( [ Plr(x) for x in range( 1, 11 ) ] ) \n",
        "  for i in range(N):\n",
        "    if (i == 0):\n",
        "      linRank[ i ] = PlrMap[ i ]\n",
        "    else:\n",
        "      linRank[ i ] = PlrMap[ i ] + linRank[ i - 1 ]\n",
        "set_linRank(0.0)"
      ],
      "execution_count": 0,
      "outputs": []
    },
    {
      "cell_type": "code",
      "metadata": {
        "id": "Z8GPcHPqvayn",
        "colab_type": "code",
        "colab": {}
      },
      "source": [
        "def selectionLR():\n",
        "  global pop\n",
        "  newPop = np.empty( (N, 4, L ) )\n",
        "  si = sort_idx()\n",
        "  for i in range( N ):\n",
        "    s = np.random.uniform( 0, 1 )\n",
        "    for idx, c in enumerate(linRank):\n",
        "      if( s <= c ):\n",
        "        newPop[ i ] = pop[ si[ idx ] ]\n",
        "        break\n",
        "  pop = newPop"
      ],
      "execution_count": 0,
      "outputs": []
    },
    {
      "cell_type": "code",
      "metadata": {
        "id": "CVCy34Yc0WPe",
        "colab_type": "code",
        "colab": {}
      },
      "source": [
        "Psel = 0.7\n",
        "def selectionBT():\n",
        "  global pop\n",
        "  newPop = np.empty( ( N, 4, L ) )\n",
        "  for i in range(N):\n",
        "    s1 = np.random.randint(0,high=10)    \n",
        "    s2 = np.random.randint(0,high=10)\n",
        "    b = np.take( pop[:,0,:], s1, axis=0 )\n",
        "    a = np.take( pop[:,0,:], s2, axis=0 )\n",
        "    fit = fit_vals()\n",
        "    p = np.random.uniform( 0, 1 )\n",
        "    if ( fit[s1] > fit[s2] and p < Psel ):\n",
        "      newPop[i] = pop[s1]\n",
        "    else:\n",
        "      newPop[i] = pop[s2]\n",
        "  pop = newPop"
      ],
      "execution_count": 0,
      "outputs": []
    },
    {
      "cell_type": "markdown",
      "metadata": {
        "id": "jTs-mH3LC0Mj",
        "colab_type": "text"
      },
      "source": [
        "#Crossover"
      ]
    },
    {
      "cell_type": "code",
      "metadata": {
        "id": "TXyTg3LMdDdQ",
        "colab_type": "code",
        "colab": {}
      },
      "source": [
        "Pcross = 0.6\n",
        "\n",
        "def crossover_2pt():\n",
        "  global pop\n",
        "  newPop = np.empty( ( N, 4, L ) )\n",
        "  np.random.shuffle(pop)\n",
        "  for i in range( N // 2 ):\n",
        "    if ( np.random.uniform( 0, 1 ) < Pcross ):\n",
        "      j = 2 * i\n",
        "      pt1 = np.random.randint(0,high=20) \n",
        "      pt2 = np.random.randint(pt1,high=20)\n",
        "      pop[ j, 0, pt1:pt2 ], pop[ j + 1, 0, pt1:pt2 ] = pop[ j + 1, 0, pt1:pt2 ].copy(), pop[ j, 0, pt1:pt2 ].copy()\n",
        "      \n",
        "def crossover_1pt():\n",
        "  global pop\n",
        "  newPop = np.empty( ( N, 4, L ) )\n",
        "  np.random.shuffle(pop)\n",
        "  for i in range( N // 2 ):\n",
        "    if ( np.random.uniform( 0, 1 ) < Pcross ):\n",
        "      j = 2 * i\n",
        "      pt1 = np.random.randint(0,high=20) \n",
        "      pop[ j, 0, pt1: ], pop[ j + 1, 0, :pt1 ] = pop[ j + 1, 0, pt1: ].copy(), pop[ j, 0, :pt1 ].copy()\n",
        "\n",
        "def crossover_and():\n",
        "  global pop\n",
        "  np.random.shuffle(pop)\n",
        "  newPop = np.empty( ( N, 4, L ) )\n",
        "  for i in range( N ):\n",
        "    if ( np.random.uniform( 0, 1 ) < Pcross ):\n",
        "      r = np.random.randint(0,high=10)\n",
        "      b = np.take( pop[:,0,:], i, axis=0 )\n",
        "      a = np.take( pop[:,0,:], r, axis=0 )\n",
        "      newPop[i,0] = ( a.astype(bool) & b.astype(bool) ).astype(int)\n",
        "    else:\n",
        "      newPop[i,0] = pop[i,0]\n"
      ],
      "execution_count": 0,
      "outputs": []
    },
    {
      "cell_type": "markdown",
      "metadata": {
        "id": "KlY-knQNaKOP",
        "colab_type": "text"
      },
      "source": [
        "#Mutation"
      ]
    },
    {
      "cell_type": "code",
      "metadata": {
        "id": "sMPpQLwlaJ_X",
        "colab_type": "code",
        "colab": {}
      },
      "source": [
        "Pmut = 0.01\n",
        "def mutation():\n",
        "  mutMatrix = np.random.random_sample((10,20))\n",
        "  mm = (mutMatrix < Pmut).astype(int)\n",
        "  pop[:,0,:] = (pop[:,0,:] + mm) % 2"
      ],
      "execution_count": 0,
      "outputs": []
    },
    {
      "cell_type": "markdown",
      "metadata": {
        "id": "_uZQNFWrpPcX",
        "colab_type": "text"
      },
      "source": [
        "#Evolution"
      ]
    },
    {
      "cell_type": "code",
      "metadata": {
        "id": "tiOwxstHUOJU",
        "colab_type": "code",
        "colab": {
          "base_uri": "https://localhost:8080/",
          "height": 323
        },
        "outputId": "28c82198-3e96-41a2-e08f-7b9b811de496"
      },
      "source": [
        "new_problem()\n",
        "CAP = avg_c\n",
        "D=-1\n",
        "np.set_printoptions( formatter = { 'float_kind' : float_formatter } )\n",
        "\n",
        "print(fit_vals())\n",
        "D=0\n",
        "\n",
        "print(fit_vals())\n",
        "D=1\n",
        "\n",
        "print(fit_vals())\n",
        "\n",
        "print(np.array([CAP]))\n",
        "\n",
        "print(fit_wts())\n",
        "D=2\n",
        "\n",
        "for _ in range(100):\n",
        "  selectionLR()\n",
        "  crossover_2pt()\n",
        "  mutation()\n",
        "# D=1\n",
        "# for _ in range(100):\n",
        "#   selectionBT()\n",
        "#   crossover_2pt()\n",
        "#   mutation()\n",
        "# D=2\n",
        "# for _ in range(30):\n",
        "#   selectionBT()\n",
        "#   crossover_and()\n",
        "#   mutation()\n",
        "# D=2\n",
        "# for _ in range(30):\n",
        "#   selectionBT()\n",
        "#   crossover_and()\n",
        "#   mutation()\n",
        "#   repair()\n",
        "\n",
        "D=2\n",
        "print(\"val\",fit_vals())\n",
        "print(np.array([CAP]))\n",
        "print(\"wts\",fit_wts())\n",
        "\n",
        "np.set_printoptions( formatter = { 'float_kind' : float_formatter2 } )\n",
        "\n",
        "print( pop[:,0] )"
      ],
      "execution_count": 11,
      "outputs": [
        {
          "output_type": "stream",
          "text": [
            "[118.04 107.24 69.02 102.83 122.63 93.40 125.71 76.78 94.88 103.32]\n",
            "[112.37 102.97 69.02 102.83 117.89 93.40 120.62 76.78 91.70 103.32]\n",
            "[67.97 88.90 69.02 102.83 96.78 93.40 92.51 76.78 86.78 103.32]\n",
            "[86.67]\n",
            "[107.33 94.24 55.47 75.90 97.34 76.23 100.37 77.69 90.01 83.70]\n",
            "val [92.13 113.04 -119.65 -93.97 113.04 113.04 118.83 113.04 102.81 101.53]\n",
            "[86.67]\n",
            "wts [73.10 86.87 93.10 92.78 86.87 86.87 86.93 86.87 79.34 76.25]\n",
            "[[1 0 0 0 1 0 1 1 0 0 1 0 1 0 1 0 0 1 1 0]\n",
            " [1 0 0 0 1 1 1 1 0 0 1 0 1 0 1 0 1 1 1 0]\n",
            " [1 0 0 0 1 1 1 1 0 1 1 0 1 0 1 0 1 1 1 0]\n",
            " [1 0 0 0 1 1 1 1 1 0 1 0 1 0 1 0 1 1 1 0]\n",
            " [1 0 0 0 1 1 1 1 0 0 1 0 1 0 1 0 1 1 1 0]\n",
            " [1 0 0 0 1 1 1 1 0 0 1 0 1 0 1 0 1 1 1 0]\n",
            " [1 0 0 0 1 1 1 0 1 0 1 0 1 0 1 0 1 1 1 0]\n",
            " [1 0 0 0 1 1 1 1 0 0 1 0 1 0 1 0 1 1 1 0]\n",
            " [1 0 0 0 1 1 1 1 0 0 1 0 1 0 1 0 0 1 1 0]\n",
            " [1 0 0 0 1 1 1 1 0 0 1 0 1 0 1 0 1 0 1 0]]\n"
          ],
          "name": "stdout"
        }
      ]
    },
    {
      "cell_type": "code",
      "metadata": {
        "id": "z2QkmEBtpPx_",
        "colab_type": "code",
        "colab": {
          "base_uri": "https://localhost:8080/",
          "height": 323
        },
        "outputId": "1333d6da-6546-4fed-c614-7376fe481414"
      },
      "source": [
        "new_problem()\n",
        "CAP = restrict_c\n",
        "D=-1\n",
        "np.set_printoptions( formatter = { 'float_kind' : float_formatter } )\n",
        "\n",
        "print(fit_vals())\n",
        "D=0\n",
        "\n",
        "print(fit_vals())\n",
        "D=1\n",
        "\n",
        "print(fit_vals())\n",
        "\n",
        "print(np.array([CAP]))\n",
        "\n",
        "print(fit_wts())\n",
        "D=0\n",
        "\n",
        "for _ in range(30):\n",
        "  selectionLR()\n",
        "  crossover_1pt()\n",
        "  mutation()\n",
        "D=1\n",
        "for _ in range(20):\n",
        "  selectionBT()\n",
        "  crossover_2pt()\n",
        "  mutation()\n",
        "D=1\n",
        "for _ in range(20):\n",
        "  selectionBT()\n",
        "  crossover_and()\n",
        "  mutation()\n",
        "D=2\n",
        "for _ in range(10):\n",
        "  selectionBT()\n",
        "  crossover_and()\n",
        "  mutation()\n",
        "  repair()\n",
        "\n",
        "D=2\n",
        "print(\"val\",fit_vals())\n",
        "print(np.array([CAP]))\n",
        "print(\"wts\",fit_wts())\n",
        "\n",
        "np.set_printoptions( formatter = { 'float_kind' : float_formatter2 } )\n",
        "\n",
        "print(pop[:,0])\n"
      ],
      "execution_count": 22,
      "outputs": [
        {
          "output_type": "stream",
          "text": [
            "[156.04 84.19 118.83 81.24 118.06 107.50 103.52 110.89 130.50 121.19]\n",
            "[148.26 77.70 111.21 74.43 110.94 100.50 96.56 103.92 122.95 113.71]\n",
            "[-62.46 -4.59 -76.88 -30.03 -20.50 -19.40 -19.83 -13.41 -55.57 -55.57]\n",
            "[22.58]\n",
            "[112.71 59.20 103.31 68.48 79.74 74.93 73.46 73.85 99.33 95.49]\n",
            "val [51.86 51.86 53.85 40.28 32.12 51.86 33.59 51.86 56.34 51.86]\n",
            "[22.58]\n",
            "wts [21.41 21.41 20.39 17.14 12.47 21.41 13.57 21.41 16.95 21.41]\n",
            "[[1 0 0 0 0 0 0 1 0 0 0 1 0 1 1 0 0 0 0 0]\n",
            " [1 0 0 0 0 0 0 1 0 0 0 1 0 1 1 0 0 0 0 0]\n",
            " [0 0 0 0 0 0 0 1 1 0 0 1 0 1 1 0 0 0 0 0]\n",
            " [1 0 0 0 0 0 0 1 0 0 0 1 0 1 0 0 0 0 0 0]\n",
            " [1 0 0 0 0 0 0 1 0 0 0 0 0 0 1 0 0 0 0 0]\n",
            " [1 0 0 0 0 0 0 1 0 0 0 1 0 1 1 0 0 0 0 0]\n",
            " [1 0 0 0 0 0 0 0 0 0 0 0 1 1 0 0 0 0 0 0]\n",
            " [1 0 0 0 0 0 0 1 0 0 0 1 0 1 1 0 0 0 0 0]\n",
            " [1 0 0 0 0 0 0 1 1 0 0 0 0 1 1 0 0 0 0 0]\n",
            " [1 0 0 0 0 0 0 1 0 0 0 1 0 1 1 0 0 0 0 0]]\n"
          ],
          "name": "stdout"
        }
      ]
    }
  ]
}