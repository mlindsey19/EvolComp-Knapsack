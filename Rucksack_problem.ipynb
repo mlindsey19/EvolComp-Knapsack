{
  "nbformat": 4,
  "nbformat_minor": 0,
  "metadata": {
    "colab": {
      "name": "Rucksack_problem",
      "version": "0.3.2",
      "provenance": [],
      "collapsed_sections": [],
      "include_colab_link": true
    },
    "kernelspec": {
      "name": "python3",
      "display_name": "Python 3"
    }
  },
  "cells": [
    {
      "cell_type": "markdown",
      "metadata": {
        "id": "view-in-github",
        "colab_type": "text"
      },
      "source": [
        "<a href=\"https://colab.research.google.com/github/mlindsey19/EvolComp-Rucksack/blob/master/Rucksack_problem.ipynb\" target=\"_parent\"><img src=\"https://colab.research.google.com/assets/colab-badge.svg\" alt=\"Open In Colab\"/></a>"
      ]
    },
    {
      "cell_type": "markdown",
      "metadata": {
        "id": "_0kFYyPhqp0E",
        "colab_type": "text"
      },
      "source": [
        "#Knapsack Problem"
      ]
    },
    {
      "cell_type": "code",
      "metadata": {
        "id": "zvXe_LZ2jw-s",
        "colab_type": "code",
        "colab": {}
      },
      "source": [
        "import numpy as np\n",
        "\n",
        "float_formatter = lambda x: \"%.1f\" % x\n",
        "float_formatter1 = lambda x: \"%.2f\" % x\n",
        "float_formatter2 = lambda x:  str(x)[0] if ( 0 <= x ) else str(x)[0:2] #for veiwing aligned columns. ONLY SHOWS FIRST DIGIT\n",
        "np.set_printoptions( formatter = { 'float_kind' : float_formatter } )\n",
        "\n",
        "L = 20\n",
        "N = 10\n",
        "\n",
        "bits = np.random.randint(low=0,high=2,size=20)\n",
        "def new_bits():\n",
        "  global bits\n",
        "  bits = np.random.randint(low=0,high=2,size=20)\n",
        "  return bits # need this return\n",
        "  \n",
        "vals = np.random.normal(loc=10.0, scale=2.0, size=20)\n",
        "wts = np.random.normal(loc=8.0, scale=3.0, size=20)\n",
        "ratio = vals/wts\n",
        "cons = np.stack( [ vals, wts, ratio ] )\n",
        "\n",
        "avg_c = wts.sum()/2\n",
        "restrict_c = wts.max() * 2\n",
        "\n",
        "def new_constraits():\n",
        "  global avg_c,restict_c, vals, wts, cons\n",
        "  vals = np.random.normal(loc=10.0, scale=2.0, size=20)\n",
        "  wts = np.random.normal(loc=8.0, scale=3.0, size=20)\n",
        "  ratio = vals/wts\n",
        "  cons = np.stack( [ vals, wts, ratio ] )\n",
        "  avg_c = wts.sum()/2\n",
        "  restrict_c = wts.max() * 2\n",
        "\n",
        "pop = [ np.stack( [ new_bits(), vals, wts, ratio ]) for _ in range(N) ]\n",
        "pop = np.stack(pop)\n",
        "\n",
        "def new_pop():\n",
        "  global pop\n",
        "  pop = [ np.stack( [ new_bits(), vals, wts, ratio ]) for _ in range(N) ]\n",
        "  pop = np.stack(pop)\n",
        "  \n",
        "\n",
        "\n"
      ],
      "execution_count": 0,
      "outputs": []
    },
    {
      "cell_type": "code",
      "metadata": {
        "id": "BUMCTnPmEzH3",
        "colab_type": "code",
        "outputId": "081d4fab-79d8-4684-dee2-3c9cf6199a7c",
        "colab": {
          "base_uri": "https://localhost:8080/",
          "height": 34
        }
      },
      "source": [
        "def str_wt( x ):\n",
        "  return ( x[0] * x[2] ).sum()\n",
        "  \n",
        "print(str_wt(pop[4]))"
      ],
      "execution_count": 155,
      "outputs": [
        {
          "output_type": "stream",
          "text": [
            "59.3122848419898\n"
          ],
          "name": "stdout"
        }
      ]
    },
    {
      "cell_type": "markdown",
      "metadata": {
        "id": "ZeowTKyn30Nr",
        "colab_type": "text"
      },
      "source": [
        "#Penalty\n",
        "* **x** -> individual\n",
        "* **c** -> capacity \n",
        "* **d** -> degree of penalty ( logarithmic = 0;  linear = 1; quadratic = 2 )\n",
        "\n",
        "\n",
        "\n"
      ]
    },
    {
      "cell_type": "code",
      "metadata": {
        "id": "gxSlsKkr0qhz",
        "colab_type": "code",
        "colab": {}
      },
      "source": [
        "pen = ratio.max()\n",
        "def set_pen():\n",
        "  global pen\n",
        "  pen = ratio.max()\n",
        "\n",
        "\n",
        "def penalty(x, c, d ):\n",
        "  sw = str_wt( x )\n",
        "  if( sw > c ):\n",
        "    global pen\n",
        "    p = ( sw - c ) * pen\n",
        "    p = np.log2( 1 + p) if ( d == 0 ) else p #assumes only positive values of p\n",
        "    p = p*p if (d == 2) else p\n",
        "    return p\n",
        "  else:\n",
        "    return 0\n",
        "def new_problem():\n",
        "  new_constraits()\n",
        "  set_pen()\n",
        "  new_pop()"
      ],
      "execution_count": 0,
      "outputs": []
    },
    {
      "cell_type": "markdown",
      "metadata": {
        "id": "tABa8RO98r1y",
        "colab_type": "text"
      },
      "source": [
        "#Repair\n"
      ]
    },
    {
      "cell_type": "code",
      "metadata": {
        "id": "fUB-dnny8qA2",
        "colab_type": "code",
        "colab": {}
      },
      "source": [
        "def repair(x, c):\n",
        "  if ( str_wt( x ) > c ):\n",
        "    while( True ):\n",
        "      while ( True ):\n",
        "        i = np.random.randint(0, high = 20)\n",
        "        if ( x[0, i ] == 1 ):\n",
        "          x[0, i ] = 0\n",
        "          break\n",
        "      if ( str_wt( x ) < c or ( not x[0].sum() ) ):\n",
        "        break"
      ],
      "execution_count": 0,
      "outputs": []
    },
    {
      "cell_type": "markdown",
      "metadata": {
        "id": "eyZfCdTTqgzC",
        "colab_type": "text"
      },
      "source": [
        "#Selection\n",
        "\n"
      ]
    },
    {
      "cell_type": "code",
      "metadata": {
        "id": "wV0lnUMov-nX",
        "colab_type": "code",
        "colab": {}
      },
      "source": [
        "new_problem()"
      ],
      "execution_count": 0,
      "outputs": []
    },
    {
      "cell_type": "code",
      "metadata": {
        "id": "XCAK257mv8ep",
        "colab_type": "code",
        "colab": {}
      },
      "source": [
        "def fit_vals():\n",
        "  global pop\n",
        "  return np.stack( [(pop[_,0] * pop[_,1]).sum() for _ in range(N)])\n",
        "\n",
        "def sort_idx():\n",
        "  return fit_vals().argsort()"
      ],
      "execution_count": 0,
      "outputs": []
    },
    {
      "cell_type": "code",
      "metadata": {
        "id": "eDQlS2_pugoF",
        "colab_type": "code",
        "colab": {}
      },
      "source": [
        "linRank = np.empty(N)\n",
        "def set_linRank(min):\n",
        "  global linRank\n",
        "  max = 2 - min\n",
        "  Plr = lambda r:( min + ( r - 1 ) / ( N - 1 ) * ( max - min ) ) / N\n",
        "  PlrMap = np.array( [ Plr(x) for x in range( 1, 11 ) ] ) \n",
        "  for i in range(N):\n",
        "    if (i == 0):\n",
        "      linRank[ i ] = PlrMap[ i ]\n",
        "    else:\n",
        "      linRank[ i ] = PlrMap[ i ] + linRank[ i - 1 ]\n",
        "set_linRank(0.5)"
      ],
      "execution_count": 0,
      "outputs": []
    },
    {
      "cell_type": "code",
      "metadata": {
        "id": "Z8GPcHPqvayn",
        "colab_type": "code",
        "colab": {}
      },
      "source": [
        "def selectionLR():\n",
        "  global pop\n",
        "  newPop = np.empty( (N, 4, L ) )\n",
        "  si = sort_idx()\n",
        "  for i in range( N ):\n",
        "    s = np.random.uniform( 0, 1 )\n",
        "    for idx, c in enumerate(linRank):\n",
        "      if( s <= c ):\n",
        "        #print(s, c , 9 - idx)\n",
        "        newPop[ i ] = pop[ si[ idx ] ]\n",
        "        break\n",
        "  pop = newPop"
      ],
      "execution_count": 0,
      "outputs": []
    },
    {
      "cell_type": "code",
      "metadata": {
        "id": "CVCy34Yc0WPe",
        "colab_type": "code",
        "colab": {}
      },
      "source": [
        "Psel = 0.7\n",
        "def selectionBT():\n",
        "  global pop\n",
        "  newPop = np.empty( ( N, 4, L ) )\n",
        "  p = np.random.uniform( 0, 1 )\n",
        "  for i in range(N):\n",
        "    s1 = np.random.randint(0,high=10)    \n",
        "    s2 = np.random.randint(0,high=10)\n",
        "    b = np.take( pop[:,0,:], s1, axis=0 )\n",
        "    a = np.take( pop[:,0,:], s2, axis=0 )\n",
        "    fit = fit_vals()\n",
        "    if ( fit[s1] > fit[s2] and p < Psel ):\n",
        "      newPop[i] = pop[s1]\n",
        "    else:\n",
        "      newPop[i] = pop[s2]\n",
        "  pop = newPop\n",
        "  \n",
        "print(fit_vals())\n",
        "\n",
        "pp = pop.copy()\n",
        "selectionBT()\n",
        "print(fit_vals())\n",
        "\n",
        "for i in range(10):  \n",
        "  print(i,pp[i,0])\n",
        "  print(i, pop[i,0])\n"
      ],
      "execution_count": 0,
      "outputs": []
    },
    {
      "cell_type": "markdown",
      "metadata": {
        "id": "jTs-mH3LC0Mj",
        "colab_type": "text"
      },
      "source": [
        "#Crossover"
      ]
    },
    {
      "cell_type": "code",
      "metadata": {
        "id": "TXyTg3LMdDdQ",
        "colab_type": "code",
        "colab": {}
      },
      "source": [
        "Pcross = 0.6\n",
        "\n",
        "def crossover_2pt():\n",
        "  global pop\n",
        "  newPop = np.empty( ( N, 4, L ) )\n",
        "  np.random.shuffle(pop)\n",
        "  for i in range( N // 2 ):\n",
        "    if ( np.random.uniform( 0, 1 ) < Pcross ):\n",
        "      j = 2 * i\n",
        "      pt1 = np.random.randint(0,high=20) \n",
        "      pt2 = np.random.randint(pt1,high=20)\n",
        "      pop[ j, 0, pt1:pt2 ], pop[ j + 1, 0, pt1:pt2 ] = pop[ j + 1, 0, pt1:pt2 ].copy(), pop[ j, 0, pt1:pt2 ].copy()\n",
        "      \n",
        "def crossover_1pt():\n",
        "  global pop\n",
        "  newPop = np.empty( ( N, 4, L ) )\n",
        "  np.random.shuffle(pop)\n",
        "  for i in range( N // 2 ):\n",
        "    if ( np.random.uniform( 0, 1 ) < Pcross ):\n",
        "      j = 2 * i\n",
        "      pt1 = np.random.randint(0,high=20) \n",
        "      pop[ j, 0, pt1: ], pop[ j + 1, 0, :pt1 ] = pop[ j + 1, 0, pt1: ].copy(), pop[ j, 0, :pt1 ].copy()\n",
        "\n",
        "def crossover_and():\n",
        "  global pop\n",
        "  np.random.shuffle(pop)\n",
        "  newPop = np.empty( ( N, 4, L ) )\n",
        "  for i in range( N ):\n",
        "    if ( np.random.uniform( 0, 1 ) < Pcross ):\n",
        "      r = np.random.randint(0,high=10)\n",
        "      b = np.take( pop[:,0,:], i, axis=0 )\n",
        "      a = np.take( pop[:,0,:], r, axis=0 )\n",
        "      newPop[i,0] = ( a.astype(bool) & b.astype(bool) ).astype(int)\n",
        "    else:\n",
        "      newPop[i,0] = pop[i,0]\n",
        "      \n",
        "pp = pop.copy()\n",
        "crossover_and()\n",
        "for i in range(10):  \n",
        "  print(i,pp[i,0])\n",
        "  print(i, pop[i,0])"
      ],
      "execution_count": 0,
      "outputs": []
    },
    {
      "cell_type": "code",
      "metadata": {
        "id": "rGxFkQgjrOP6",
        "colab_type": "code",
        "colab": {}
      },
      "source": [
        "\n"
      ],
      "execution_count": 0,
      "outputs": []
    },
    {
      "cell_type": "code",
      "metadata": {
        "id": "zBPLZa9uM3iG",
        "colab_type": "code",
        "colab": {}
      },
      "source": [
        "new_problem()\n",
        "\n",
        "\n",
        "ab = ( pop[0,0].astype(bool) & pop[0,1].astype(bool))\n",
        "print(ab.astype(int))"
      ],
      "execution_count": 0,
      "outputs": []
    },
    {
      "cell_type": "markdown",
      "metadata": {
        "id": "KlY-knQNaKOP",
        "colab_type": "text"
      },
      "source": [
        "#Mutation"
      ]
    },
    {
      "cell_type": "code",
      "metadata": {
        "id": "sMPpQLwlaJ_X",
        "colab_type": "code",
        "colab": {}
      },
      "source": [
        "Pmut = 0.01\n",
        "def mutation():\n",
        "  mutMatrix = np.random.random_sample((10,20))\n",
        "  mm = (mutMatrix < Pmut).astype(int)\n",
        "  pop[:,0,:] = (pop[:,0,:] + mm) % 2\n"
      ],
      "execution_count": 0,
      "outputs": []
    },
    {
      "cell_type": "markdown",
      "metadata": {
        "id": "_uZQNFWrpPcX",
        "colab_type": "text"
      },
      "source": [
        "#Evolution"
      ]
    },
    {
      "cell_type": "code",
      "metadata": {
        "id": "z2QkmEBtpPx_",
        "colab_type": "code",
        "colab": {
          "base_uri": "https://localhost:8080/",
          "height": 51
        },
        "outputId": "785c8d03-4556-4e62-b18e-791c3adce862"
      },
      "source": [
        "new_problem()\n",
        "print(fit_vals())\n",
        "for _ in range(5000):\n",
        "  selectionBT()\n",
        "  crossover_and()\n",
        "  mutation()\n",
        "print(fit_vals())\n",
        "\n"
      ],
      "execution_count": 254,
      "outputs": [
        {
          "output_type": "stream",
          "text": [
            "[87.3 103.5 111.3 83.2 96.0 112.9 87.9 128.1 118.3 92.1]\n",
            "[188.6 188.6 188.6 182.8 188.6 188.6 188.6 188.6 188.6 188.6]\n"
          ],
          "name": "stdout"
        }
      ]
    }
  ]
}