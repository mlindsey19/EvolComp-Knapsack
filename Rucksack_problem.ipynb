{
  "nbformat": 4,
  "nbformat_minor": 0,
  "metadata": {
    "colab": {
      "name": "Rucksack_problem",
      "version": "0.3.2",
      "provenance": [],
      "include_colab_link": true
    },
    "kernelspec": {
      "name": "python3",
      "display_name": "Python 3"
    }
  },
  "cells": [
    {
      "cell_type": "markdown",
      "metadata": {
        "id": "view-in-github",
        "colab_type": "text"
      },
      "source": [
        "<a href=\"https://colab.research.google.com/github/mlindsey19/EvolComp-Rucksack/blob/master/Rucksack_problem.ipynb\" target=\"_parent\"><img src=\"https://colab.research.google.com/assets/colab-badge.svg\" alt=\"Open In Colab\"/></a>"
      ]
    },
    {
      "cell_type": "code",
      "metadata": {
        "id": "zvXe_LZ2jw-s",
        "colab_type": "code",
        "colab": {}
      },
      "source": [
        "import numpy as np\n",
        "\n",
        "float_formatter = lambda x: \"%.0f\" % x\n",
        "float_formatter2 = lambda x:  str(x)[0] if ( 0 <= x ) else str(x)[0:2] #for veiwing aligned columns. ONLY SHOWS FIRST DIGIT\n",
        "np.set_printoptions( formatter = { 'float_kind' : float_formatter2 } )\n",
        "\n",
        "L = 20\n",
        "N = 10\n",
        "\n",
        "bits = np.random.randint(low=0,high=2,size=20)\n",
        "def new_bits():\n",
        "  global bits\n",
        "  bits = np.random.randint(low=0,high=2,size=20)\n",
        "  return bits # need this return\n",
        "  \n",
        "vals = np.random.normal(loc=10.0, scale=2.0, size=20)\n",
        "wts = np.random.normal(loc=8.0, scale=3.0, size=20)\n",
        "ratio = vals/wts\n",
        "cons = np.stack( [ vals, wts, ratio ] )\n",
        "\n",
        "avg_c = wts.sum()/2\n",
        "restrict_c = wts.max() * 2\n",
        "\n",
        "def new_constraits():\n",
        "  global avg_c,restict_c, vals, wts, cons\n",
        "  vals = np.random.normal(loc=10.0, scale=2.0, size=20)\n",
        "  wts = np.random.normal(loc=8.0, scale=3.0, size=20)\n",
        "  ratio = vals/wts\n",
        "  cons = np.stack( [ vals, wts, ratio ] )\n",
        "  avg_c = wts.sum()/2\n",
        "  restrict_c = wts.max() * 2\n",
        "\n",
        "pop = [ np.stack( [ new_bits(), vals, wts, ratio ]) for _ in range(N) ]\n",
        "pop = np.stack(pop)\n",
        "\n",
        "def new_pop():\n",
        "  global pop\n",
        "  pop = [ np.stack( [ new_bits(), vals, wts, ratio ]) for _ in range(N) ]\n",
        "  pop = np.stack(pop)\n",
        "  \n",
        "def new_problem():\n",
        "  new_constraits()\n",
        "  new_pop()\n",
        "\n"
      ],
      "execution_count": 0,
      "outputs": []
    },
    {
      "cell_type": "code",
      "metadata": {
        "id": "TXyTg3LMdDdQ",
        "colab_type": "code",
        "colab": {}
      },
      "source": [
        ""
      ],
      "execution_count": 0,
      "outputs": []
    },
    {
      "cell_type": "code",
      "metadata": {
        "id": "BUMCTnPmEzH3",
        "colab_type": "code",
        "colab": {
          "base_uri": "https://localhost:8080/",
          "height": 34
        },
        "outputId": "d6062db4-4462-4a91-f298-d43c31d11640"
      },
      "source": [
        "def str_wt( x ):\n",
        "  return ( x[0] * x[2] ).sum()\n",
        "  \n",
        "print(str_wt(pop[4]))"
      ],
      "execution_count": 32,
      "outputs": [
        {
          "output_type": "stream",
          "text": [
            "80.05197207451062\n"
          ],
          "name": "stdout"
        }
      ]
    },
    {
      "cell_type": "markdown",
      "metadata": {
        "id": "ZeowTKyn30Nr",
        "colab_type": "text"
      },
      "source": [
        "* **x** -> individual\n",
        "* **c** -> capacity \n",
        "* **d** -> degree of penalty ( logarithmic = 0;  linear = 1; quadratic = 2 )\n",
        "\n",
        "\n",
        "\n"
      ]
    },
    {
      "cell_type": "code",
      "metadata": {
        "id": "gxSlsKkr0qhz",
        "colab_type": "code",
        "colab": {
          "base_uri": "https://localhost:8080/",
          "height": 34
        },
        "outputId": "44660e1c-bd48-4c66-ef98-ff621e65fe0d"
      },
      "source": [
        "pen = ratio.max()\n",
        "def set_pen():\n",
        "  global pen\n",
        "  pen = ratio.max()\n",
        "\n",
        "\n",
        "def penalty(x, c, d ):\n",
        "  global pen\n",
        "  p = ( str_wt( x ) - c) * pen\n",
        "  p = np.log2( 1 + p) if ( d == 0 ) else p #assumes only positive values of p\n",
        "  p = p*p if (d == 2) else p\n",
        "  return p\n",
        "\n",
        "penalty(pop[3], avg_c, 1)"
      ],
      "execution_count": 36,
      "outputs": [
        {
          "output_type": "execute_result",
          "data": {
            "text/plain": [
              "-16.347655987103767"
            ]
          },
          "metadata": {
            "tags": []
          },
          "execution_count": 36
        }
      ]
    },
    {
      "cell_type": "markdown",
      "metadata": {
        "id": "tABa8RO98r1y",
        "colab_type": "text"
      },
      "source": [
        "#Repair\n"
      ]
    },
    {
      "cell_type": "code",
      "metadata": {
        "id": "fUB-dnny8qA2",
        "colab_type": "code",
        "colab": {}
      },
      "source": [
        "\n",
        "\n",
        "def repair(x, c):\n",
        "  overfill = True if ( str_wt( x ) > c ) else False\n",
        "  while( overfill == True):\n",
        "    \n",
        "    "
      ],
      "execution_count": 0,
      "outputs": []
    },
    {
      "cell_type": "code",
      "metadata": {
        "id": "wV0lnUMov-nX",
        "colab_type": "code",
        "colab": {
          "base_uri": "https://localhost:8080/",
          "height": 51
        },
        "outputId": "b7b84728-44ff-4a20-e594-1a22b0d003f0"
      },
      "source": [
        "  ratio\n"
      ],
      "execution_count": 14,
      "outputs": [
        {
          "output_type": "execute_result",
          "data": {
            "text/plain": [
              "array([1.98, 1.46, 2.89, 10.82, 1.35, 2.74, 2.77, 1.10, 1.51, 1.11, 1.09,\n",
              "       1.24, 1.80, 0.79, 1.36, 1.09, 0.90, 0.84, 1.59, 6.37])"
            ]
          },
          "metadata": {
            "tags": []
          },
          "execution_count": 14
        }
      ]
    },
    {
      "cell_type": "code",
      "metadata": {
        "id": "eDQlS2_pugoF",
        "colab_type": "code",
        "colab": {
          "base_uri": "https://localhost:8080/",
          "height": 51
        },
        "outputId": "ee7b60b4-8de4-41c3-adc3-8beef948f21f"
      },
      "source": [
        "vals"
      ],
      "execution_count": 9,
      "outputs": [
        {
          "output_type": "execute_result",
          "data": {
            "text/plain": [
              "array([12.64, 9.57, 12.99, 6.98, 10.93, 11.48, 10.15, 9.26, 13.05, 9.67,\n",
              "       9.33, 11.54, 6.33, 5.71, 9.80, 7.35, 12.16, 11.40, 9.48, 9.73])"
            ]
          },
          "metadata": {
            "tags": []
          },
          "execution_count": 9
        }
      ]
    },
    {
      "cell_type": "code",
      "metadata": {
        "id": "Z8GPcHPqvayn",
        "colab_type": "code",
        "colab": {
          "base_uri": "https://localhost:8080/",
          "height": 51
        },
        "outputId": "9456dfd3-b5ea-43fb-8baa-f8dfc7817c34"
      },
      "source": [
        "wts"
      ],
      "execution_count": 10,
      "outputs": [
        {
          "output_type": "execute_result",
          "data": {
            "text/plain": [
              "array([4.04, 4.90, 7.84, 5.48, 7.40, 7.27, 16.57, 6.54, 6.26, 5.10, 5.26,\n",
              "       8.36, 10.23, 11.22, 2.21, 9.43, 6.60, 10.30, 10.48, 9.52])"
            ]
          },
          "metadata": {
            "tags": []
          },
          "execution_count": 10
        }
      ]
    },
    {
      "cell_type": "code",
      "metadata": {
        "id": "H30PTMwIv6LG",
        "colab_type": "code",
        "colab": {
          "base_uri": "https://localhost:8080/",
          "height": 34
        },
        "outputId": "1832e365-475f-42c0-e276-280c674bf85d"
      },
      "source": [
        "avg_c"
      ],
      "execution_count": 11,
      "outputs": [
        {
          "output_type": "execute_result",
          "data": {
            "text/plain": [
              "77.4941922052184"
            ]
          },
          "metadata": {
            "tags": []
          },
          "execution_count": 11
        }
      ]
    },
    {
      "cell_type": "code",
      "metadata": {
        "id": "XCAK257mv8ep",
        "colab_type": "code",
        "colab": {
          "base_uri": "https://localhost:8080/",
          "height": 34
        },
        "outputId": "68318bf3-ad2f-4134-fda4-4d36c0e04545"
      },
      "source": [
        "restrict_c"
      ],
      "execution_count": 12,
      "outputs": [
        {
          "output_type": "execute_result",
          "data": {
            "text/plain": [
              "33.14479241907637"
            ]
          },
          "metadata": {
            "tags": []
          },
          "execution_count": 12
        }
      ]
    }
  ]
}